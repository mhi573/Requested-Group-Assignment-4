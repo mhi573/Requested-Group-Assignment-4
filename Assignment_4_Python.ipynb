{
 "cells": [
  {
   "cell_type": "markdown",
   "metadata": {},
   "source": [
    "# Monte Carlo Simulation - Group: James, Garo, Manny"
   ]
  },
  {
   "cell_type": "markdown",
   "metadata": {},
   "source": [
    "### Data Preparation\n",
    "\n",
    "First, we will set up this notebook so that it will display multiple outputs for each cell if needed, as well as load the necessary libraries."
   ]
  },
  {
   "cell_type": "code",
   "execution_count": 1,
   "metadata": {},
   "outputs": [],
   "source": [
    "from IPython.core.interactiveshell import InteractiveShell\n",
    "InteractiveShell.ast_node_interactivity = \"all\""
   ]
  },
  {
   "cell_type": "code",
   "execution_count": 1,
   "metadata": {},
   "outputs": [
    {
     "name": "stdout",
     "output_type": "stream",
     "text": [
      "Samples: 100\n",
      "Estimated value of pi: 3.2400000000000002131628207280300557613372802734375000000000000000000000000000000000000000000000000000\n",
      "Error percent: 3.1324031235%\n",
      "Elapsed time: 0.0000 seconds\n",
      "------------------------------------------------------------\n",
      "Samples: 1000\n",
      "Estimated value of pi: 3.1680000000000001492139745096210390329360961914062500000000000000000000000000000000000000000000000000\n",
      "Error percent: 0.8405719430%\n",
      "Elapsed time: 0.0003 seconds\n",
      "------------------------------------------------------------\n",
      "Samples: 10000\n",
      "Estimated value of pi: 3.1392000000000002124522779922699555754661560058593750000000000000000000000000000000000000000000000000\n",
      "Error percent: 0.0761605292%\n",
      "Elapsed time: 0.0030 seconds\n",
      "------------------------------------------------------------\n",
      "Samples: 100000\n",
      "Estimated value of pi: 3.1516000000000001790567694115452468395233154296875000000000000000000000000000000000000000000000000000\n",
      "Error percent: 0.3185437297%\n",
      "Elapsed time: 0.0311 seconds\n",
      "------------------------------------------------------------\n",
      "Samples: 1000000\n",
      "Estimated value of pi: 3.1412439999999999251656390697462484240531921386718750000000000000000000000000000000000000000000000000\n",
      "Error percent: 0.0110979884%\n",
      "Elapsed time: 0.2939 seconds\n",
      "------------------------------------------------------------\n",
      "Samples: 10000000\n",
      "Estimated value of pi: 3.1413804000000000726799953554291278123855590820312500000000000000000000000000000000000000000000000000\n",
      "Error percent: 0.0067562416%\n",
      "Elapsed time: 2.8272 seconds\n",
      "------------------------------------------------------------\n",
      "Samples: 100000000\n",
      "Estimated value of pi: 3.1415714399999998818202584516257047653198242187500000000000000000000000000000000000000000000000000000\n",
      "Error percent: 0.0006752495%\n",
      "Elapsed time: 27.9564 seconds\n",
      "------------------------------------------------------------\n"
     ]
    }
   ],
   "source": [
    "import random\n",
    "import time\n",
    "import math\n",
    "\n",
    "def estimate_pi(num_samples):\n",
    "    \"\"\"Estimates the value of pi using a Monte Carlo method.\"\"\"\n",
    "    points_inside_circle = 0\n",
    "    \n",
    "    for _ in range(num_samples):\n",
    "        x = random.uniform(-1, 1)\n",
    "        y = random.uniform(-1, 1)\n",
    "        \n",
    "        # Check if the point (x, y) is inside the unit circle\n",
    "        if x**2 + y**2 <= 1:\n",
    "            points_inside_circle += 1\n",
    "    \n",
    "    # Estimate pi as the ratio of points inside the circle to total points, multiplied by 4\n",
    "    pi_estimate = 4 * points_inside_circle / num_samples\n",
    "    return pi_estimate\n",
    "\n",
    "def main():\n",
    "    sample_sizes = [100, 1000, 10000, 100000, 1000000, 10000000, 100000000]\n",
    "    real_pi = math.pi\n",
    "    \n",
    "    for num_samples in sample_sizes:\n",
    "        start_time = time.time()\n",
    "        \n",
    "        estimated_pi = estimate_pi(num_samples)\n",
    "        \n",
    "        end_time = time.time()\n",
    "        elapsed_time = end_time - start_time\n",
    "        error_percent = abs((estimated_pi - real_pi) / real_pi) * 100\n",
    "        \n",
    "        print(f\"Samples: {num_samples}\")\n",
    "        print(f\"Estimated value of pi: {estimated_pi:.100f}\")\n",
    "        print(f\"Error percent: {error_percent:.10f}%\")\n",
    "        print(f\"Elapsed time: {elapsed_time:.4f} seconds\")\n",
    "        print('-' * 60)\n",
    "\n",
    "if __name__ == \"__main__\":\n",
    "    main()\n"
   ]
  }
 ],
 "metadata": {
  "kernelspec": {
   "display_name": "Python 3 (ipykernel)",
   "language": "python",
   "name": "python3"
  },
  "language_info": {
   "codemirror_mode": {
    "name": "ipython",
    "version": 3
   },
   "file_extension": ".py",
   "mimetype": "text/x-python",
   "name": "python",
   "nbconvert_exporter": "python",
   "pygments_lexer": "ipython3",
   "version": "3.9.13"
  }
 },
 "nbformat": 4,
 "nbformat_minor": 2
}
